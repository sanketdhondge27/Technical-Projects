{
 "cells": [
  {
   "cell_type": "markdown",
   "metadata": {},
   "source": [
    "# Steps to build [Tic x Tac 0 Toe] game."
   ]
  },
  {
   "cell_type": "markdown",
   "metadata": {},
   "source": [
    "# Step 1\n",
    "# First we are going to creat our board. \n",
    "# Then,setting up the board as list where each index from list represents a number from 1-9 on a number pad.\n",
    "# We therefore get 3x3 representation of our board.\n"
   ]
  },
  {
   "cell_type": "code",
   "execution_count": 1,
   "metadata": {},
   "outputs": [],
   "source": [
    "from IPython.display import clear_output\n",
    "def show_board(board):\n",
    "    # It will clear the last execution result and display a new board.\n",
    "    #And clear_output() only works in jupyter.\n",
    "    clear_output()\n",
    "    print('   |   |')\n",
    "    print(' ' + board[1] + ' | ' + board[2] + ' | ' + board[3])\n",
    "    print('   |   |')\n",
    "    print('-----------')\n",
    "    print(' ' + board[4] + ' | ' + board[5] + ' | ' + board[6])\n",
    "    print('   |   |')\n",
    "    print('-----------')\n",
    "    print('   |   |')\n",
    "    print(' ' + board[7] + ' | ' + board[8] + ' | ' + board[9])\n",
    "    print('   |   |')"
   ]
  },
  {
   "cell_type": "markdown",
   "metadata": {},
   "source": [
    "# Now we are going to run our function on test version of the board list and make the adjustments accordingly."
   ]
  },
  {
   "cell_type": "code",
   "execution_count": 2,
   "metadata": {},
   "outputs": [
    {
     "name": "stdout",
     "output_type": "stream",
     "text": [
      "   |   |\n",
      " X | O | X\n",
      "   |   |\n",
      "-----------\n",
      " O | X | O\n",
      "   |   |\n",
      "-----------\n",
      "   |   |\n",
      " X | O | X\n",
      "   |   |\n"
     ]
    }
   ],
   "source": [
    "test_board=['#','X','O','X','O','X','O','X','O','X']\n",
    "show_board(test_board)"
   ]
  },
  {
   "cell_type": "markdown",
   "metadata": {},
   "source": [
    "# Step 2\n",
    "# Now we are taking each player's input by assingning their markers as 'X' or 'O'."
   ]
  },
  {
   "cell_type": "code",
   "execution_count": 3,
   "metadata": {},
   "outputs": [],
   "source": [
    "def players_input():\n",
    "    marker=''\n",
    "    while marker !='X' and marker !='O':\n",
    "        marker=input('Player1:Choose X or O').upper()\n",
    "    if marker == 'X':\n",
    "        return('X','O')\n",
    "    else:\n",
    "        return ('O','X')\n",
    "    "
   ]
  },
  {
   "cell_type": "code",
   "execution_count": 4,
   "metadata": {},
   "outputs": [
    {
     "name": "stdout",
     "output_type": "stream",
     "text": [
      "Player1:Choose X or Ox\n"
     ]
    }
   ],
   "source": [
    "# Here we are using tuple-unpacking method so that it will show individual marker.\n",
    "player1_marker,player2_marker=players_input()"
   ]
  },
  {
   "cell_type": "code",
   "execution_count": 5,
   "metadata": {},
   "outputs": [
    {
     "data": {
      "text/plain": [
       "'X'"
      ]
     },
     "execution_count": 5,
     "metadata": {},
     "output_type": "execute_result"
    }
   ],
   "source": [
    "player1_marker"
   ]
  },
  {
   "cell_type": "markdown",
   "metadata": {},
   "source": [
    "# Step 3\n",
    "# Now we are goin to write the function that takes a board list object, a marker('X' or 'O'),a desired position on number pad(1-9)."
   ]
  },
  {
   "cell_type": "code",
   "execution_count": 6,
   "metadata": {},
   "outputs": [],
   "source": [
    "def marker_location(board,marker,position):\n",
    "    board[position]=marker"
   ]
  },
  {
   "cell_type": "code",
   "execution_count": 7,
   "metadata": {},
   "outputs": [
    {
     "name": "stdout",
     "output_type": "stream",
     "text": [
      "   |   |\n",
      " X | O | X\n",
      "   |   |\n",
      "-----------\n",
      " O | X | O\n",
      "   |   |\n",
      "-----------\n",
      "   |   |\n",
      " X | O | £\n",
      "   |   |\n"
     ]
    }
   ],
   "source": [
    "marker_location(test_board,'£',9)\n",
    "show_board(test_board)"
   ]
  },
  {
   "cell_type": "markdown",
   "metadata": {},
   "source": [
    "# Step 4\n",
    "# Here we are checking if someone has won the game or not?"
   ]
  },
  {
   "cell_type": "code",
   "execution_count": 8,
   "metadata": {},
   "outputs": [],
   "source": [
    "def check_win(board,mark):\n",
    "    return((board[1]==board[2]==board[3]==mark)or\n",
    "          (board[4]==board[5]==board[6]==mark)or\n",
    "          (board[7]==board[8]==board[9]==mark)or\n",
    "          (board[1]==board[4]==board[7]==mark)or\n",
    "          (board[2]==board[5]==board[8]==mark)or\n",
    "          (board[3]==board[6]==board[9]==mark)or\n",
    "          (board[1]==board[5]==board[9]==mark)or\n",
    "          (board[3]==board[5]==board[7]==mark))"
   ]
  },
  {
   "cell_type": "code",
   "execution_count": 9,
   "metadata": {},
   "outputs": [
    {
     "name": "stdout",
     "output_type": "stream",
     "text": [
      "   |   |\n",
      " X | O | X\n",
      "   |   |\n",
      "-----------\n",
      " O | X | O\n",
      "   |   |\n",
      "-----------\n",
      "   |   |\n",
      " X | O | £\n",
      "   |   |\n"
     ]
    },
    {
     "data": {
      "text/plain": [
       "True"
      ]
     },
     "execution_count": 9,
     "metadata": {},
     "output_type": "execute_result"
    }
   ],
   "source": [
    "#display the board\n",
    "show_board(test_board)\n",
    "check_win(test_board,'X')"
   ]
  },
  {
   "cell_type": "markdown",
   "metadata": {},
   "source": [
    "# Step 5\n",
    "# We are importing random module to randomly decide which player goes first.\n",
    "# It returns a string of which player goes first."
   ]
  },
  {
   "cell_type": "code",
   "execution_count": 10,
   "metadata": {},
   "outputs": [],
   "source": [
    "import random\n",
    "def choose_turn():\n",
    "    if random.randint(0,1)==0:\n",
    "        return 'Player2'\n",
    "    else:\n",
    "        return 'Player1'\n",
    "        "
   ]
  },
  {
   "cell_type": "markdown",
   "metadata": {},
   "source": [
    "# Step 6\n",
    "# We are checking a space on board is freely available or not?"
   ]
  },
  {
   "cell_type": "code",
   "execution_count": 11,
   "metadata": {},
   "outputs": [],
   "source": [
    "def check_board(board,position):\n",
    "    return board[position]==' '"
   ]
  },
  {
   "cell_type": "markdown",
   "metadata": {},
   "source": [
    "# Step 7\n",
    "# Here we are going to check if the board is full then it returns a boolean value. True if full, False otherwise."
   ]
  },
  {
   "cell_type": "code",
   "execution_count": 12,
   "metadata": {},
   "outputs": [],
   "source": [
    "def full_board_check(board):\n",
    "    for i in range(1,10):\n",
    "        if check_board(board,i):\n",
    "            return False\n",
    "    return True\n",
    "        "
   ]
  },
  {
   "cell_type": "markdown",
   "metadata": {},
   "source": [
    "# Step 8\n",
    "# We are going to define a function that ask for a player's next position (as a number 1-9) and then uses the function from 'step 6' to check if its a free position then return the position for later use."
   ]
  },
  {
   "cell_type": "code",
   "execution_count": 13,
   "metadata": {},
   "outputs": [],
   "source": [
    "def player_position(board):\n",
    "    position=0\n",
    "    while position not in [1,2,3,4,5,6,7,8,9] or not check_board(board,position):\n",
    "        position=int(input('choose a position from: 1-9 '))\n",
    "    return position \n",
    "    "
   ]
  },
  {
   "cell_type": "markdown",
   "metadata": {},
   "source": [
    "# Step 9\n",
    "# We are now checking that the player wants to play again or not and if they want then returns a boolean True."
   ]
  },
  {
   "cell_type": "code",
   "execution_count": 14,
   "metadata": {},
   "outputs": [],
   "source": [
    "def replay():\n",
    "    return input('Do you want to play again? Enter Yes or No: ').lower().startswith('y')"
   ]
  },
  {
   "cell_type": "markdown",
   "metadata": {},
   "source": [
    "# Step 10\n",
    "# Summing up all the above steps to give a final touch. "
   ]
  },
  {
   "cell_type": "code",
   "execution_count": 3,
   "metadata": {},
   "outputs": [
    {
     "name": "stdout",
     "output_type": "stream",
     "text": [
      "Let's start Tic Tac Toe\n"
     ]
    },
    {
     "ename": "NameError",
     "evalue": "name 'players_input' is not defined",
     "output_type": "error",
     "traceback": [
      "\u001b[1;31m---------------------------------------------------------------------------\u001b[0m",
      "\u001b[1;31mNameError\u001b[0m                                 Traceback (most recent call last)",
      "\u001b[1;32m<ipython-input-3-7fa66956aa4d>\u001b[0m in \u001b[0;36m<module>\u001b[1;34m\u001b[0m\n\u001b[0;32m      3\u001b[0m     \u001b[1;31m# to reset the board\u001b[0m\u001b[1;33m\u001b[0m\u001b[1;33m\u001b[0m\u001b[1;33m\u001b[0m\u001b[0m\n\u001b[0;32m      4\u001b[0m     \u001b[0mtheBoard\u001b[0m\u001b[1;33m=\u001b[0m\u001b[1;33m[\u001b[0m\u001b[1;34m' '\u001b[0m\u001b[1;33m]\u001b[0m\u001b[1;33m*\u001b[0m\u001b[1;36m10\u001b[0m\u001b[1;33m\u001b[0m\u001b[1;33m\u001b[0m\u001b[0m\n\u001b[1;32m----> 5\u001b[1;33m     \u001b[0mplayer1_marker\u001b[0m\u001b[1;33m,\u001b[0m\u001b[0mplayer2_marker\u001b[0m\u001b[1;33m=\u001b[0m\u001b[0mplayers_input\u001b[0m\u001b[1;33m(\u001b[0m\u001b[1;33m)\u001b[0m\u001b[1;33m\u001b[0m\u001b[1;33m\u001b[0m\u001b[0m\n\u001b[0m\u001b[0;32m      6\u001b[0m     \u001b[0mturn\u001b[0m\u001b[1;33m=\u001b[0m\u001b[0mchoose_turn\u001b[0m\u001b[1;33m(\u001b[0m\u001b[1;33m)\u001b[0m\u001b[1;33m\u001b[0m\u001b[1;33m\u001b[0m\u001b[0m\n\u001b[0;32m      7\u001b[0m     \u001b[0mprint\u001b[0m\u001b[1;33m(\u001b[0m\u001b[0mturn\u001b[0m\u001b[1;33m+\u001b[0m\u001b[1;34m'will go first.'\u001b[0m\u001b[1;33m)\u001b[0m\u001b[1;33m\u001b[0m\u001b[1;33m\u001b[0m\u001b[0m\n",
      "\u001b[1;31mNameError\u001b[0m: name 'players_input' is not defined"
     ]
    }
   ],
   "source": [
    "print(\"Let's start Tic Tac Toe\")\n",
    "while True:\n",
    "    # to reset the board\n",
    "    theBoard=[' ']*10\n",
    "    player1_marker,player2_marker=players_input()\n",
    "    turn=choose_turn()\n",
    "    print(turn+'will go first.')\n",
    "    \n",
    "    play_game=input('Are you ready to play the game? Yes or No')\n",
    "    \n",
    "    if play_game.lower()[0]=='y':\n",
    "        game_on=True\n",
    "    else:\n",
    "        game_on=False\n",
    "        \n",
    "    while game_on:\n",
    "        if turn=='Player1':\n",
    "            # Player 1's turn\n",
    "            show_board(theBoard)\n",
    "            position=player_position(theBoard)\n",
    "            marker_location(theBoard,player1_marker,position)\n",
    "            \n",
    "            if check_win(theBoard,player1_marker):\n",
    "                show_board(theBoard)\n",
    "                print('Congratulations!!! Player 1 has won the game')\n",
    "                game_on=False\n",
    "            else:\n",
    "                if full_board_check(theBoard):\n",
    "                    show_board(theBoard)\n",
    "                    print('A game is draw!!')\n",
    "                    game_on=False\n",
    "                else:\n",
    "                    turn='Player2'\n",
    "        else:\n",
    "            # Player 2's turn\n",
    "            show_board(theBoard)\n",
    "            position=player_position(theBoard)\n",
    "            marker_location(theBoard,player2_marker,position)\n",
    "            \n",
    "            if check_win(theBoard,player2_marker):\n",
    "                show_board(theBoard)\n",
    "                print('Congratulations!!!  Player 2 has won the game')\n",
    "                game_on=False\n",
    "            else:\n",
    "                if full_board_check(theBoard):\n",
    "                    show_board(theBoard)\n",
    "                    print('A game is draw!!')\n",
    "                    game_on=False\n",
    "                else:\n",
    "                    turn='Player1'\n",
    "                    \n",
    "    if not replay():\n",
    "        break\n",
    "            \n",
    "                \n",
    "                \n",
    "    "
   ]
  },
  {
   "cell_type": "code",
   "execution_count": null,
   "metadata": {},
   "outputs": [],
   "source": []
  },
  {
   "cell_type": "code",
   "execution_count": null,
   "metadata": {},
   "outputs": [],
   "source": []
  }
 ],
 "metadata": {
  "kernelspec": {
   "display_name": "Python 3",
   "language": "python",
   "name": "python3"
  },
  "language_info": {
   "codemirror_mode": {
    "name": "ipython",
    "version": 3
   },
   "file_extension": ".py",
   "mimetype": "text/x-python",
   "name": "python",
   "nbconvert_exporter": "python",
   "pygments_lexer": "ipython3",
   "version": "3.7.4"
  }
 },
 "nbformat": 4,
 "nbformat_minor": 2
}
